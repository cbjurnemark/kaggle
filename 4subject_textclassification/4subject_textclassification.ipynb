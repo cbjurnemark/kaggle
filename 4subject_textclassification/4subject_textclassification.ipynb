{
 "cells": [
  {
   "cell_type": "markdown",
   "metadata": {},
   "source": [
    "# Kaggle: Predict the topic of the text \n",
    "\n",
    "#### 4 subject data for text classification\n",
    "Data and instructions can be found here: https://www.kaggle.com/deepak711/4-subject-data-text-classification/data\n",
    "\n",
    "## 1. Import relevant packages"
   ]
  },
  {
   "cell_type": "code",
   "execution_count": 1,
   "metadata": {},
   "outputs": [],
   "source": [
    "import pandas as pd\n",
    "import glob\n",
    "from sklearn import preprocessing\n",
    "from sklearn.model_selection import train_test_split\n",
    "from sklearn.feature_extraction.text import TfidfVectorizer\n",
    "from sklearn.svm import LinearSVC\n",
    "from sklearn.model_selection import GridSearchCV\n",
    "from sklearn.metrics import accuracy_score\n",
    "from sklearn.metrics import confusion_matrix"
   ]
  },
  {
   "cell_type": "markdown",
   "metadata": {},
   "source": [
    "## 2. Extract and store the data"
   ]
  },
  {
   "cell_type": "code",
   "execution_count": 2,
   "metadata": {},
   "outputs": [
    {
     "data": {
      "text/html": [
       "<div>\n",
       "<style scoped>\n",
       "    .dataframe tbody tr th:only-of-type {\n",
       "        vertical-align: middle;\n",
       "    }\n",
       "\n",
       "    .dataframe tbody tr th {\n",
       "        vertical-align: top;\n",
       "    }\n",
       "\n",
       "    .dataframe thead th {\n",
       "        text-align: right;\n",
       "    }\n",
       "</style>\n",
       "<table border=\"1\" class=\"dataframe\">\n",
       "  <thead>\n",
       "    <tr style=\"text-align: right;\">\n",
       "      <th></th>\n",
       "      <th>text</th>\n",
       "      <th>subject</th>\n",
       "    </tr>\n",
       "  </thead>\n",
       "  <tbody>\n",
       "    <tr>\n",
       "      <th>0</th>\n",
       "      <td>LOCOMOT ION AND MOVEMENT\\n\\ncalled locomotion....</td>\n",
       "      <td>biology</td>\n",
       "    </tr>\n",
       "    <tr>\n",
       "      <th>1</th>\n",
       "      <td>Ernst Mayr\\n(1904 — 2004)\\n\\nBorn on 5 July 19...</td>\n",
       "      <td>biology</td>\n",
       "    </tr>\n",
       "    <tr>\n",
       "      <th>2</th>\n",
       "      <td>TRANSPORT IN PLANTS\\n\\n- O=\"=O\\nO==O\\n- o==o\\n...</td>\n",
       "      <td>biology</td>\n",
       "    </tr>\n",
       "    <tr>\n",
       "      <th>3</th>\n",
       "      <td>BIOLOGY\\n\\nNatural methods work on the princip...</td>\n",
       "      <td>biology</td>\n",
       "    </tr>\n",
       "    <tr>\n",
       "      <th>4</th>\n",
       "      <td>MORPHOLOGY OF FLOWERING PLANTS\\n\\ncoat is the ...</td>\n",
       "      <td>biology</td>\n",
       "    </tr>\n",
       "    <tr>\n",
       "      <th>...</th>\n",
       "      <td>...</td>\n",
       "      <td>...</td>\n",
       "    </tr>\n",
       "    <tr>\n",
       "      <th>1781</th>\n",
       "      <td>LAWS OF MOTION\\n\\n \\n\\nThe total momentum of a...</td>\n",
       "      <td>physics</td>\n",
       "    </tr>\n",
       "    <tr>\n",
       "      <th>1782</th>\n",
       "      <td>4O\\n\\n \\n\\n \\n\\ni Physics\\n\\nEXAMPLE 1.13\\n\\n ...</td>\n",
       "      <td>physics</td>\n",
       "    </tr>\n",
       "    <tr>\n",
       "      <th>1783</th>\n",
       "      <td>I Physics\\n\\n \\n\\n7. A changing current in a c...</td>\n",
       "      <td>physics</td>\n",
       "    </tr>\n",
       "    <tr>\n",
       "      <th>1784</th>\n",
       "      <td>222\\n\\n \\n\\n \\n\\ni Physics\\n\\nNow, let us reco...</td>\n",
       "      <td>physics</td>\n",
       "    </tr>\n",
       "    <tr>\n",
       "      <th>1785</th>\n",
       "      <td>Since force is a vector, it is better to write...</td>\n",
       "      <td>physics</td>\n",
       "    </tr>\n",
       "  </tbody>\n",
       "</table>\n",
       "<p>1786 rows × 2 columns</p>\n",
       "</div>"
      ],
      "text/plain": [
       "                                                   text  subject\n",
       "0     LOCOMOT ION AND MOVEMENT\\n\\ncalled locomotion....  biology\n",
       "1     Ernst Mayr\\n(1904 — 2004)\\n\\nBorn on 5 July 19...  biology\n",
       "2     TRANSPORT IN PLANTS\\n\\n- O=\"=O\\nO==O\\n- o==o\\n...  biology\n",
       "3     BIOLOGY\\n\\nNatural methods work on the princip...  biology\n",
       "4     MORPHOLOGY OF FLOWERING PLANTS\\n\\ncoat is the ...  biology\n",
       "...                                                 ...      ...\n",
       "1781  LAWS OF MOTION\\n\\n \\n\\nThe total momentum of a...  physics\n",
       "1782  4O\\n\\n \\n\\n \\n\\ni Physics\\n\\nEXAMPLE 1.13\\n\\n ...  physics\n",
       "1783  I Physics\\n\\n \\n\\n7. A changing current in a c...  physics\n",
       "1784  222\\n\\n \\n\\n \\n\\ni Physics\\n\\nNow, let us reco...  physics\n",
       "1785  Since force is a vector, it is better to write...  physics\n",
       "\n",
       "[1786 rows x 2 columns]"
      ]
     },
     "execution_count": 2,
     "metadata": {},
     "output_type": "execute_result"
    }
   ],
   "source": [
    "biology = []\n",
    "\n",
    "for filename in glob.glob(\"/Users/caroline/Documents/kaggle/train_data_final/biology/*.txt\"):\n",
    "    with open(filename) as f:\n",
    "        biology.append(f.read())\n",
    "        \n",
    "df_biology = pd.DataFrame(biology)\n",
    "df_biology['subject']='biology'\n",
    "\n",
    "accounts = []\n",
    "\n",
    "for filename in glob.glob(\"/Users/caroline/Documents/kaggle/train_data_final/accounts/*.txt\"):\n",
    "    with open(filename) as f:\n",
    "        accounts.append(f.read())\n",
    "        \n",
    "df_accounts = pd.DataFrame(accounts)\n",
    "df_accounts['subject']='accounts'\n",
    "\n",
    "geography = []\n",
    "\n",
    "for filename in glob.glob(\"/Users/caroline/Documents/kaggle/train_data_final/geography/*.txt\"):\n",
    "    with open(filename) as f:\n",
    "        geography.append(f.read())\n",
    "        \n",
    "df_geography = pd.DataFrame(geography)\n",
    "df_geography['subject']='geography'\n",
    "\n",
    "physics = []\n",
    "\n",
    "for filename in glob.glob(\"/Users/caroline/Documents/kaggle/train_data_final/physics/*.txt\"):\n",
    "    with open(filename) as f:\n",
    "        physics.append(f.read())\n",
    "        \n",
    "df_physics = pd.DataFrame(physics)\n",
    "df_physics['subject']='physics'\n",
    "\n",
    "data = pd.concat([df_biology, df_accounts, df_geography, df_physics], ignore_index=True, axis = 0)\n",
    "data = data.rename(columns={0: \"text\"})\n",
    "data"
   ]
  },
  {
   "cell_type": "markdown",
   "metadata": {},
   "source": [
    "## 3 Data preprocessing\n",
    "\n",
    "### a) Encode subjects as integers"
   ]
  },
  {
   "cell_type": "code",
   "execution_count": 3,
   "metadata": {},
   "outputs": [
    {
     "data": {
      "text/html": [
       "<div>\n",
       "<style scoped>\n",
       "    .dataframe tbody tr th:only-of-type {\n",
       "        vertical-align: middle;\n",
       "    }\n",
       "\n",
       "    .dataframe tbody tr th {\n",
       "        vertical-align: top;\n",
       "    }\n",
       "\n",
       "    .dataframe thead th {\n",
       "        text-align: right;\n",
       "    }\n",
       "</style>\n",
       "<table border=\"1\" class=\"dataframe\">\n",
       "  <thead>\n",
       "    <tr style=\"text-align: right;\">\n",
       "      <th></th>\n",
       "      <th>text</th>\n",
       "      <th>subject</th>\n",
       "      <th>subject_encoded</th>\n",
       "    </tr>\n",
       "  </thead>\n",
       "  <tbody>\n",
       "    <tr>\n",
       "      <th>0</th>\n",
       "      <td>LOCOMOT ION AND MOVEMENT\\n\\ncalled locomotion....</td>\n",
       "      <td>biology</td>\n",
       "      <td>1</td>\n",
       "    </tr>\n",
       "    <tr>\n",
       "      <th>1</th>\n",
       "      <td>Ernst Mayr\\n(1904 — 2004)\\n\\nBorn on 5 July 19...</td>\n",
       "      <td>biology</td>\n",
       "      <td>1</td>\n",
       "    </tr>\n",
       "    <tr>\n",
       "      <th>2</th>\n",
       "      <td>TRANSPORT IN PLANTS\\n\\n- O=\"=O\\nO==O\\n- o==o\\n...</td>\n",
       "      <td>biology</td>\n",
       "      <td>1</td>\n",
       "    </tr>\n",
       "    <tr>\n",
       "      <th>3</th>\n",
       "      <td>BIOLOGY\\n\\nNatural methods work on the princip...</td>\n",
       "      <td>biology</td>\n",
       "      <td>1</td>\n",
       "    </tr>\n",
       "    <tr>\n",
       "      <th>4</th>\n",
       "      <td>MORPHOLOGY OF FLOWERING PLANTS\\n\\ncoat is the ...</td>\n",
       "      <td>biology</td>\n",
       "      <td>1</td>\n",
       "    </tr>\n",
       "    <tr>\n",
       "      <th>...</th>\n",
       "      <td>...</td>\n",
       "      <td>...</td>\n",
       "      <td>...</td>\n",
       "    </tr>\n",
       "    <tr>\n",
       "      <th>1781</th>\n",
       "      <td>LAWS OF MOTION\\n\\n \\n\\nThe total momentum of a...</td>\n",
       "      <td>physics</td>\n",
       "      <td>3</td>\n",
       "    </tr>\n",
       "    <tr>\n",
       "      <th>1782</th>\n",
       "      <td>4O\\n\\n \\n\\n \\n\\ni Physics\\n\\nEXAMPLE 1.13\\n\\n ...</td>\n",
       "      <td>physics</td>\n",
       "      <td>3</td>\n",
       "    </tr>\n",
       "    <tr>\n",
       "      <th>1783</th>\n",
       "      <td>I Physics\\n\\n \\n\\n7. A changing current in a c...</td>\n",
       "      <td>physics</td>\n",
       "      <td>3</td>\n",
       "    </tr>\n",
       "    <tr>\n",
       "      <th>1784</th>\n",
       "      <td>222\\n\\n \\n\\n \\n\\ni Physics\\n\\nNow, let us reco...</td>\n",
       "      <td>physics</td>\n",
       "      <td>3</td>\n",
       "    </tr>\n",
       "    <tr>\n",
       "      <th>1785</th>\n",
       "      <td>Since force is a vector, it is better to write...</td>\n",
       "      <td>physics</td>\n",
       "      <td>3</td>\n",
       "    </tr>\n",
       "  </tbody>\n",
       "</table>\n",
       "<p>1786 rows × 3 columns</p>\n",
       "</div>"
      ],
      "text/plain": [
       "                                                   text  subject  \\\n",
       "0     LOCOMOT ION AND MOVEMENT\\n\\ncalled locomotion....  biology   \n",
       "1     Ernst Mayr\\n(1904 — 2004)\\n\\nBorn on 5 July 19...  biology   \n",
       "2     TRANSPORT IN PLANTS\\n\\n- O=\"=O\\nO==O\\n- o==o\\n...  biology   \n",
       "3     BIOLOGY\\n\\nNatural methods work on the princip...  biology   \n",
       "4     MORPHOLOGY OF FLOWERING PLANTS\\n\\ncoat is the ...  biology   \n",
       "...                                                 ...      ...   \n",
       "1781  LAWS OF MOTION\\n\\n \\n\\nThe total momentum of a...  physics   \n",
       "1782  4O\\n\\n \\n\\n \\n\\ni Physics\\n\\nEXAMPLE 1.13\\n\\n ...  physics   \n",
       "1783  I Physics\\n\\n \\n\\n7. A changing current in a c...  physics   \n",
       "1784  222\\n\\n \\n\\n \\n\\ni Physics\\n\\nNow, let us reco...  physics   \n",
       "1785  Since force is a vector, it is better to write...  physics   \n",
       "\n",
       "      subject_encoded  \n",
       "0                   1  \n",
       "1                   1  \n",
       "2                   1  \n",
       "3                   1  \n",
       "4                   1  \n",
       "...               ...  \n",
       "1781                3  \n",
       "1782                3  \n",
       "1783                3  \n",
       "1784                3  \n",
       "1785                3  \n",
       "\n",
       "[1786 rows x 3 columns]"
      ]
     },
     "execution_count": 3,
     "metadata": {},
     "output_type": "execute_result"
    }
   ],
   "source": [
    "le = preprocessing.LabelEncoder()\n",
    "le.fit(data.subject)\n",
    "\n",
    "data['subject_encoded'] = le.transform(data.subject) \n",
    "data #use data.subject_encoded.unique() to access the new codes"
   ]
  },
  {
   "cell_type": "markdown",
   "metadata": {},
   "source": [
    "### b) Split the data into train and test"
   ]
  },
  {
   "cell_type": "code",
   "execution_count": 4,
   "metadata": {},
   "outputs": [],
   "source": [
    "X_train, X_test, y_train, y_test = train_test_split(\n",
    "    data.text, \n",
    "    data.subject_encoded, \n",
    "    test_size=0.2, \n",
    "    random_state=42)"
   ]
  },
  {
   "cell_type": "markdown",
   "metadata": {},
   "source": [
    "### c) Create a tfidf model and fit the data"
   ]
  },
  {
   "cell_type": "code",
   "execution_count": 5,
   "metadata": {},
   "outputs": [],
   "source": [
    "tfidf_model = TfidfVectorizer(\n",
    "            ngram_range=(1, 2), # unigrams and bigrams\n",
    "            strip_accents='unicode', # remove accents and perform other character normalization on all characters\n",
    "            min_df=0.0001, # ignore terms that have a document frequency strictly lower than 0.0001\n",
    "            lowercase=True) # convert all characters to lowercase before tokenizing.\n",
    "\n",
    "\n",
    "transformed_train = tfidf_model.fit_transform(X_train)\n",
    "transformed_test = tfidf_model.transform(X_test) "
   ]
  },
  {
   "cell_type": "markdown",
   "metadata": {},
   "source": [
    "## 4. Train model"
   ]
  },
  {
   "cell_type": "code",
   "execution_count": 6,
   "metadata": {},
   "outputs": [
    {
     "name": "stderr",
     "output_type": "stream",
     "text": [
      "/Users/caroline/anaconda3/lib/python3.6/site-packages/sklearn/svm/_base.py:947: ConvergenceWarning: Liblinear failed to converge, increase the number of iterations.\n",
      "  \"the number of iterations.\", ConvergenceWarning)\n"
     ]
    },
    {
     "data": {
      "text/plain": [
       "GridSearchCV(cv=None, error_score=nan,\n",
       "             estimator=LinearSVC(C=1.0, class_weight=None, dual=True,\n",
       "                                 fit_intercept=True, intercept_scaling=1,\n",
       "                                 loss='squared_hinge', max_iter=1000,\n",
       "                                 multi_class='ovr', penalty='l2',\n",
       "                                 random_state=42, tol=0.0001, verbose=0),\n",
       "             iid='deprecated', n_jobs=None,\n",
       "             param_grid={'C': [0.1, 0.3, 1, 3, 10],\n",
       "                         'class_weight': [None, 'balanced'],\n",
       "                         'loss': ['squared_hinge', 'hinge'],\n",
       "                         'tol': [0.0001, 1e-05, 1e-06]},\n",
       "             pre_dispatch='2*n_jobs', refit=True, return_train_score=False,\n",
       "             scoring=None, verbose=0)"
      ]
     },
     "execution_count": 6,
     "metadata": {},
     "output_type": "execute_result"
    }
   ],
   "source": [
    "# Support Vector Machine (SVM): Linear Support Vector Classification\n",
    "\n",
    "parameters = {\n",
    "    'C':[0.1, 0.3, 1, 3, 10],\n",
    "    'loss': ['squared_hinge', 'hinge'],\n",
    "    'class_weight': [None, 'balanced'],\n",
    "    'tol': [1e-4, 1e-5, 1e-6]\n",
    "             \n",
    "             }\n",
    "\n",
    "svm = LinearSVC(random_state = 42)\n",
    "\n",
    "clf = GridSearchCV(svm, parameters)\n",
    "clf.fit(transformed_train, y_train)"
   ]
  },
  {
   "cell_type": "markdown",
   "metadata": {},
   "source": [
    "## 5. Make the prediction"
   ]
  },
  {
   "cell_type": "code",
   "execution_count": 14,
   "metadata": {},
   "outputs": [],
   "source": [
    "y_pred = clf.predict(transformed_test)"
   ]
  },
  {
   "cell_type": "markdown",
   "metadata": {},
   "source": [
    "## 6. Asses the results"
   ]
  },
  {
   "cell_type": "markdown",
   "metadata": {},
   "source": [
    "### a) Calculate accuracy score"
   ]
  },
  {
   "cell_type": "code",
   "execution_count": 15,
   "metadata": {},
   "outputs": [
    {
     "data": {
      "text/plain": [
       "0.9916201117318436"
      ]
     },
     "execution_count": 15,
     "metadata": {},
     "output_type": "execute_result"
    }
   ],
   "source": [
    "accuracy_score(y_test, y_pred)"
   ]
  },
  {
   "cell_type": "markdown",
   "metadata": {},
   "source": [
    "### b) Investigate failed predictions "
   ]
  },
  {
   "cell_type": "code",
   "execution_count": 24,
   "metadata": {},
   "outputs": [
    {
     "data": {
      "text/plain": [
       "938    (v) Colour — some minerals have\\ncharacteristi...\n",
       "67     ENVIRONMENTAL ISSUES\\n\\n \\n\\nGreenhouse gases\\...\n",
       "997    LIFE ON THE EARTH\\n\\nThe producers are consume...\n",
       "Name: text, dtype: object"
      ]
     },
     "execution_count": 24,
     "metadata": {},
     "output_type": "execute_result"
    }
   ],
   "source": [
    "X_test.loc[y_pred != y_test.values]"
   ]
  },
  {
   "cell_type": "code",
   "execution_count": 33,
   "metadata": {},
   "outputs": [
    {
     "data": {
      "text/plain": [
       "array(['geography', 'biology', 'geography'], dtype=object)"
      ]
     },
     "execution_count": 33,
     "metadata": {},
     "output_type": "execute_result"
    }
   ],
   "source": [
    "# check the labels of the samples where we failed\n",
    "le.inverse_transform(y_test[y_pred != y_test.values])"
   ]
  },
  {
   "cell_type": "code",
   "execution_count": 35,
   "metadata": {},
   "outputs": [
    {
     "data": {
      "text/plain": [
       "array(['physics', 'geography', 'biology'], dtype=object)"
      ]
     },
     "execution_count": 35,
     "metadata": {},
     "output_type": "execute_result"
    }
   ],
   "source": [
    "# check the predictions of the samples where we failed\n",
    "le.inverse_transform(y_pred[y_pred != y_test.values])"
   ]
  },
  {
   "cell_type": "code",
   "execution_count": 17,
   "metadata": {},
   "outputs": [
    {
     "name": "stdout",
     "output_type": "stream",
     "text": [
      "(v) Colour — some minerals have\n",
      "characteristic colour determined\n",
      "by their molecular structure —\n",
      "malachite. azurite. chalcopyrite etc..\n",
      "and some minerals are coloured by\n",
      "impurities. For example. because\n",
      "of impurities quartz may be white.\n",
      "green. red. yellow etc.\n",
      "\n",
      "Streak — colour of the ground powder\n",
      "of any mineral. It may be of the\n",
      "same colour as the mineral or may\n",
      "differ — malachite is green and gives\n",
      "green streak. ﬂuorite is purple or\n",
      "green but gives a white streak.\n",
      "Transparency — transparent: light\n",
      "rays pass through so that objects\n",
      "can be seen plainly: translucent\n",
      "— light rays pass through but will\n",
      "get diffused so that objects cannot\n",
      "be seen; opaque — light will not pass\n",
      "at all.\n",
      "\n",
      "Structure — particular arrange—\n",
      "ment of the individual crystals;\n",
      "fine. medium or coarse grained;\n",
      "fibrous — separable. divergent.\n",
      "radiating.\n",
      "\n",
      "Hardness — relative resistance\n",
      "being scratched: ten minerals are\n",
      "selected to measure the degree of\n",
      "hardness from 1—10. They are:\n",
      "1_ talc; 2_ gypsum; 3_ calcite; origin. occurrence. alteration and\n",
      "4. ﬂuorite; 5. apatite; 6. feldspar; relationship with other rocks.\n",
      "\n",
      "7. quartz; 8. topaz; 9. corundum;\n",
      "\n",
      "lO. diamond. Compared to this for\n",
      "\n",
      "example. a fingernail is 2.5 and\n",
      "\n",
      "glass or knife blade is 5.5.\n",
      "\n",
      "Specific gravity — the ratio between\n",
      "\n",
      "the weight of a given object and\n",
      "\n",
      "the weight of an equal volume of\n",
      "\n",
      "water; object weighed in air and\n",
      "\n",
      "then weighed in water and divide\n",
      "\n",
      "weight in air by the difference of\n",
      "\n",
      "the two weights.\n",
      "\n",
      "Petrology is science of rocks. A petrologist\n",
      "studies rocks in all their aspects ViZ..\n",
      "mineral composition. texture. structure.\n",
      "ENVIRONMENTAL ISSUES\n",
      "\n",
      " \n",
      "\n",
      "Greenhouse gases\n",
      "absorb long wave\n",
      "(infrared) radiation from\n",
      "the earth, and emit it\n",
      "again towards the earth.\n",
      "The cycle continues till\n",
      "the earth’s surface has\n",
      "Greenhouse no long wave radiation to\n",
      "emit.\n",
      "\n",
      " \n",
      "\n",
      " \n",
      "\n",
      "Figure 16.6 Sunlight energy at the outermost atmosphere\n",
      "\n",
      "surprised to know that without greenhouse effect the average temperature\n",
      "at surface of Earth would have been a chilly —18°C rather than the present\n",
      "average of 15°C. In order to understand the\n",
      "\n",
      "greenhouse effect, it is necessary to know the\n",
      "\n",
      "fate of the energy of sunlight that reaches the CFCs 14% ‘\n",
      "outermost atmosphere (Figure 16.6). Clouds\n",
      "and gases reﬂect about one-fourth of the\n",
      "incoming solar radiation, and absorb some of\n",
      "it but almost half of incoming solar radiation\n",
      "falls on Earth’s surface heating it, while a small\n",
      "proportion is reﬂected back. Earth’s surface\n",
      "re-emits heat in the form of infrared radiation\n",
      "but part of this does not escape into space as\n",
      "atmospheric gases (e. g. , carbon dioxide,\n",
      "methane, etc.) absorb a major ﬁ'action of it. The\n",
      "\n",
      "N20 6%\n",
      "\n",
      "20%\n",
      "Methane\n",
      "\n",
      "  \n",
      " \n",
      "   \n",
      " \n",
      "  \n",
      "\n",
      " \n",
      "\n",
      "60%\n",
      "\n",
      "Carbon dioxide\n",
      "\n",
      "and a major part of which again comes to\n",
      "Earth’s surface, thus heating it up once again.\n",
      "This cycle is repeated many a times. The\n",
      "above-mentioned gases — carbon dioxide and methane — are commonly\n",
      "known as greenhouse gases (Figure 16.7) because they are responsible\n",
      "for the greenhouse effect.\n",
      "\n",
      "Increase in the level of greenhouse gases has led to considerable heating\n",
      "of Earth leading to global warming. During the past century, the\n",
      "temperature of Earth has increased by 0.6 °C, most of it during the last\n",
      "\n",
      "warming\n",
      "\n",
      "2019—2020\n",
      "\n",
      "greenhouse gases to total global\n",
      "LIFE ON THE EARTH\n",
      "\n",
      "The producers are consumed by the\n",
      "primary consumers whereas the primary\n",
      "consumers are, in turn, being eaten by the\n",
      "secondary consumers. Further, the secondary\n",
      "consumers are consumed by the tertiary\n",
      "consumers. The decomposers feed on the dead\n",
      "at each and every level. They change them into\n",
      "various substances such as nutrients, organic\n",
      "and inorganic salts essential for soil fertility.\n",
      "Organisms of an ecosystem are linked together\n",
      "through a foodchain (Figure 15.1). For\n",
      "example, a plant eating beetle feeding on a\n",
      "paddy stalk is eaten by a frog, which is, in turn,\n",
      "eaten by a snake, which is then consumed by\n",
      "a hawk. This sequence of eating and being\n",
      "eaten and the resultant transfer of energy from\n",
      "one level to another is known as the food-chain.\n",
      "Transfer of energy that occurs during the\n",
      "process of a foodchain from one level to\n",
      "another is known as ﬂow of energy. However,\n",
      "food-chains are not isolated from one another.\n",
      "For example, a mouse feeding on grain may\n",
      "be eaten by different secondary consumers\n",
      "(carnivores) and these carnivores may be eaten\n",
      "by other different tertiary consumers (top\n",
      "carnivores). In such situations, each of the\n",
      "carnivores may consume more than one type\n",
      "of prey. As a result, the food- chains get\n",
      "interlocked with one another. This inter-\n",
      "connecting network of species is known as food\n",
      "web. Generally, two types of food-chains are\n",
      "recognised: grazing food-chain and detritus\n",
      "food-chain. In a grazing food-chain, the first\n",
      "level starts with plants as producers and ends\n",
      "with carnivores as consumers at the last level,\n",
      "with the herbivores being at the intermediate\n",
      "level. There is a loss of energy at each level\n",
      "which may be through respiration, excretion\n",
      "or decomposition. The levels involved in a food-\n",
      "chain range between three to ﬁve and energy\n",
      "is lost at each level. A detritus food-chain is\n",
      "based on autotrophs energy capture initiated\n",
      "by grazing animals and involves the\n",
      "decomposition or breaking down of organic\n",
      "wastes and dead matter derived from the\n",
      "grazing food-chain.\n",
      "\n",
      "Types of Biomes\n",
      "\n",
      "In the earlier paragraphs, you have learnt the\n",
      "meaning of the term ‘biome’. Let us now try to\n",
      "identify the major biomes of the world. There\n",
      "are ﬁve major biomes — forest, desert, grassland,\n",
      "\n",
      "125\n",
      "\n",
      "aquatic and altitudinal biomes. Some features\n",
      "of these biomes are given in Table l 5. 1.\n",
      "\n",
      "Biogeochemical Cycles\n",
      "\n",
      "The sun is the basic source of energy on which\n",
      "all life depends. This energy initiates life\n",
      "processes in the biosphere through\n",
      "photosynthesis, the main source of food and\n",
      "energy for green plants. During photosynthesis,\n",
      "carbon dioxide is converted into organic\n",
      "compounds and oxygen. Out of the total solar\n",
      "insolation that reaches the earth’s surface, only\n",
      "a very small fraction (0.1 per cent) is fixed in\n",
      "photosynthesis. More than half is used for plant\n",
      "respiration and the remaining part is\n",
      "temporarily stored or is shifted to other\n",
      "portions of the plant.\n",
      "\n",
      "Life on earth consists of a great variety of\n",
      "living organisms. These living organisms exist\n",
      "and survive in a diversity of associations. Such\n",
      "survival involves the presence of systemic ﬂows\n",
      "such as ﬂows of energy, water and nutrients.\n",
      "These ﬂows show variations in different parts\n",
      "of the world, in different seasons of the year\n",
      "and under varying local circumstances. Studies\n",
      "have shown that for the last one billion years,\n",
      "the atmosphere and hydrosphere have been\n",
      "composed of approximately the same balance\n",
      "of chemical components. This balance of the\n",
      "chemical elements is maintained by a cyclic\n",
      "passage through the tissues of plants and\n",
      "animals. The cycle starts by absorbing the\n",
      "chemical elements by the organism and is\n",
      "returned to the air, water and soil through\n",
      "decomposition. These cycles are largely\n",
      "energised by solar insolation. These cyclic\n",
      "movements of chemical elements of the\n",
      "biosphere between the organism and the\n",
      "environment are referred to as biogeochemical\n",
      "cycles. Bio refers to living organisms and geo\n",
      "to rocks, soil, air and water of the earth.\n",
      "\n",
      "There are two types of biogeochemical\n",
      "cycles : the gaseous and the sedimentary cycle.\n",
      "In the gaseous cycle, the main reservoir of\n",
      "nutrients is the atmosphere and the ocean. In\n",
      "the sedimentary cycle, the main reservoir is the\n",
      "soil and the sedimentary and other rocks of\n",
      "the earth’s crust.\n",
      "\n",
      "The Water Cycle\n",
      "\n",
      "All living organisms, the atmosphere and the\n",
      "lithosphere maintain between them a\n",
      "\n",
      "2019-2020\n"
     ]
    }
   ],
   "source": [
    "# print the whole text\n",
    "for text in X_test.loc[y_pred != y_test.values]:\n",
    "    print(text)"
   ]
  },
  {
   "cell_type": "code",
   "execution_count": null,
   "metadata": {},
   "outputs": [
    {
     "data": {
      "text/plain": [
       "array([[ 55,   0,   0,   0],\n",
       "       [  0, 128,   1,   0],\n",
       "       [  0,   1,  18,   1],\n",
       "       [  0,   0,   0, 154]])"
      ]
     },
     "execution_count": 11,
     "metadata": {},
     "output_type": "execute_result"
    }
   ],
   "source": [
    "# columns corresponds to the predictions\n",
    "# rows corresponds to the true labels\n",
    "\n",
    "confusion_matrix(y_test, y_pred)"
   ]
  }
 ],
 "metadata": {
  "kernelspec": {
   "display_name": "Python 3",
   "language": "python",
   "name": "python3"
  },
  "language_info": {
   "codemirror_mode": {
    "name": "ipython",
    "version": 3
   },
   "file_extension": ".py",
   "mimetype": "text/x-python",
   "name": "python",
   "nbconvert_exporter": "python",
   "pygments_lexer": "ipython3",
   "version": "3.6.8"
  }
 },
 "nbformat": 4,
 "nbformat_minor": 2
}
